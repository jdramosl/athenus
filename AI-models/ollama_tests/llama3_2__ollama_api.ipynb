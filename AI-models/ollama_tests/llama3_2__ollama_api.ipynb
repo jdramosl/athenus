{
 "cells": [
  {
   "metadata": {},
   "cell_type": "markdown",
   "source": [
    "# Ollama\n",
    "- Juan Se.\n",
    "- First testing"
   ],
   "id": "77c205d1b2521297"
  },
  {
   "metadata": {
    "collapsed": true,
    "ExecuteTime": {
     "end_time": "2024-12-04T16:27:11.620040Z",
     "start_time": "2024-12-04T16:27:11.617621Z"
    }
   },
   "cell_type": "code",
   "source": [
    "import requests\n",
    "import json"
   ],
   "id": "initial_id",
   "outputs": [],
   "execution_count": 9
  },
  {
   "metadata": {},
   "cell_type": "markdown",
   "source": [
    "## Chat Endpoint\n",
    "For terminal type:\n",
    "```shell\n",
    "curl http://localhost:11434/api/generate -d '{\n",
    "  \"model\": \"llama3.2\",\n",
    "  \"prompt\": \"Why is the sky blue?\",\n",
    "  \"stream\": false\n",
    "}'\n",
    "```"
   ],
   "id": "a4c09a15ff433be2"
  },
  {
   "metadata": {
    "ExecuteTime": {
     "end_time": "2024-12-04T16:43:36.235680Z",
     "start_time": "2024-12-04T16:43:36.233053Z"
    }
   },
   "cell_type": "code",
   "source": "chat_endpoint = 'http://localhost:11434/api/chat'",
   "id": "529b64f9d1caf97e",
   "outputs": [],
   "execution_count": 34
  },
  {
   "metadata": {
    "ExecuteTime": {
     "end_time": "2024-12-04T16:46:20.248047Z",
     "start_time": "2024-12-04T16:46:20.243780Z"
    }
   },
   "cell_type": "code",
   "source": [
    "data = {\n",
    "    \"model\": \"llama3.2\",\n",
    "    \"messages\": [\n",
    "        {\n",
    "            \"role\": \"user\",\n",
    "            \"content\": \"why is the sky blue?\"\n",
    "        }\n",
    "    ],\n",
    "    \"stream\": False\n",
    "}"
   ],
   "id": "fe9eb6b0f22b6196",
   "outputs": [],
   "execution_count": 36
  },
  {
   "metadata": {
    "ExecuteTime": {
     "end_time": "2024-12-04T16:46:30.796067Z",
     "start_time": "2024-12-04T16:46:22.099536Z"
    }
   },
   "cell_type": "code",
   "source": [
    "response = requests.post(url=chat_endpoint, json=data)\n",
    "\n",
    "response"
   ],
   "id": "9f1982a3f6c05cbf",
   "outputs": [
    {
     "data": {
      "text/plain": [
       "<Response [200]>"
      ]
     },
     "execution_count": 37,
     "metadata": {},
     "output_type": "execute_result"
    }
   ],
   "execution_count": 37
  },
  {
   "metadata": {
    "ExecuteTime": {
     "end_time": "2024-12-04T16:46:31.819087Z",
     "start_time": "2024-12-04T16:46:31.814899Z"
    }
   },
   "cell_type": "code",
   "source": "raw_response = response.text",
   "id": "77fb80cf3dc67017",
   "outputs": [],
   "execution_count": 38
  },
  {
   "metadata": {
    "ExecuteTime": {
     "end_time": "2024-12-04T16:46:32.340742Z",
     "start_time": "2024-12-04T16:46:32.336654Z"
    }
   },
   "cell_type": "code",
   "source": "raw_response",
   "id": "a9ccd92f780a853",
   "outputs": [
    {
     "data": {
      "text/plain": [
       "'{\"model\":\"llama3.2\",\"created_at\":\"2024-12-04T16:46:30.790226Z\",\"message\":{\"role\":\"assistant\",\"content\":\"The sky appears blue because of a phenomenon called Rayleigh scattering, named after the British physicist Lord Rayleigh, who first described it in the late 19th century.\\\\n\\\\nHere\\'s what happens:\\\\n\\\\n1. **Sunlight enters Earth\\'s atmosphere**: When sunlight enters our atmosphere, it encounters tiny molecules of gases such as nitrogen (N2) and oxygen (O2).\\\\n2. **Scattering occurs**: These gas molecules scatter the light in all directions, but they scatter shorter (blue) wavelengths more than longer (red) wavelengths.\\\\n3. **Blue light is scattered more**: Since blue light has a shorter wavelength, it is scattered more by the tiny gas molecules. This means that more blue light reaches our eyes from the sky.\\\\n4. **Red light travels straight**: Meanwhile, the longer wavelengths of red light continue to travel in a straight line, reaching our eyes with less scattering.\\\\n\\\\nThis is why the sky appears blue during the daytime, especially when the sun is overhead. The color of the sky can change depending on various factors such as:\\\\n\\\\n* Time of day: During sunrise and sunset, the sun\\'s rays have to travel through more of the atmosphere, which scatters the shorter wavelengths, making the sky appear more red or orange.\\\\n* Atmospheric conditions: Dust, pollution, and water vapor in the air can scatter light in different ways, changing the apparent color of the sky.\\\\n* Cloud cover: Clouds can absorb or scatter light, altering the way we see the color of the sky.\\\\n\\\\nSo, to summarize, the sky appears blue because of the scattering of sunlight by tiny gas molecules in our atmosphere, which preferentially scatters shorter (blue) wavelengths more than longer (red) wavelengths.\"},\"done_reason\":\"stop\",\"done\":true,\"total_duration\":8685144500,\"load_duration\":840177709,\"prompt_eval_count\":31,\"prompt_eval_duration\":1187000000,\"eval_count\":343,\"eval_duration\":6654000000}'"
      ]
     },
     "execution_count": 39,
     "metadata": {},
     "output_type": "execute_result"
    }
   ],
   "execution_count": 39
  },
  {
   "metadata": {
    "ExecuteTime": {
     "end_time": "2024-12-04T16:47:08.275189Z",
     "start_time": "2024-12-04T16:47:08.272635Z"
    }
   },
   "cell_type": "code",
   "source": "json_response = response.json()",
   "id": "cb3979effd2b5b1",
   "outputs": [],
   "execution_count": 41
  },
  {
   "metadata": {
    "ExecuteTime": {
     "end_time": "2024-12-04T16:48:07.402450Z",
     "start_time": "2024-12-04T16:48:07.398617Z"
    }
   },
   "cell_type": "code",
   "source": "json_response[\"message\"][\"content\"]",
   "id": "16d928a4d71851b7",
   "outputs": [
    {
     "data": {
      "text/plain": [
       "\"The sky appears blue because of a phenomenon called Rayleigh scattering, named after the British physicist Lord Rayleigh, who first described it in the late 19th century.\\n\\nHere's what happens:\\n\\n1. **Sunlight enters Earth's atmosphere**: When sunlight enters our atmosphere, it encounters tiny molecules of gases such as nitrogen (N2) and oxygen (O2).\\n2. **Scattering occurs**: These gas molecules scatter the light in all directions, but they scatter shorter (blue) wavelengths more than longer (red) wavelengths.\\n3. **Blue light is scattered more**: Since blue light has a shorter wavelength, it is scattered more by the tiny gas molecules. This means that more blue light reaches our eyes from the sky.\\n4. **Red light travels straight**: Meanwhile, the longer wavelengths of red light continue to travel in a straight line, reaching our eyes with less scattering.\\n\\nThis is why the sky appears blue during the daytime, especially when the sun is overhead. The color of the sky can change depending on various factors such as:\\n\\n* Time of day: During sunrise and sunset, the sun's rays have to travel through more of the atmosphere, which scatters the shorter wavelengths, making the sky appear more red or orange.\\n* Atmospheric conditions: Dust, pollution, and water vapor in the air can scatter light in different ways, changing the apparent color of the sky.\\n* Cloud cover: Clouds can absorb or scatter light, altering the way we see the color of the sky.\\n\\nSo, to summarize, the sky appears blue because of the scattering of sunlight by tiny gas molecules in our atmosphere, which preferentially scatters shorter (blue) wavelengths more than longer (red) wavelengths.\""
      ]
     },
     "execution_count": 43,
     "metadata": {},
     "output_type": "execute_result"
    }
   ],
   "execution_count": 43
  },
  {
   "metadata": {
    "ExecuteTime": {
     "end_time": "2024-12-04T16:31:09.751384Z",
     "start_time": "2024-12-04T16:31:09.746761Z"
    }
   },
   "cell_type": "code",
   "source": "parsed_lines = [ json.loads(line) for line in lines ]",
   "id": "6830ce321dc99bb1",
   "outputs": [],
   "execution_count": 16
  },
  {
   "metadata": {
    "ExecuteTime": {
     "end_time": "2024-12-04T17:02:21.292403Z",
     "start_time": "2024-12-04T17:02:18.396984Z"
    }
   },
   "cell_type": "code",
   "source": [
    "data = {\n",
    "    \"model\": \"llama3.2\",\n",
    "    \"messages\": [\n",
    "        {\n",
    "            \"role\": \"user\",\n",
    "            \"content\": \"why is the sky blue?\"\n",
    "        },\n",
    "        {\n",
    "            \"role\": \"assistant\",\n",
    "            \"content\": \"The sky appears blue because of a phenomenon called Rayleigh scattering, named after the British physicist Lord Rayleigh, who first described it in the late 19th century.\\n\\nHere's what happens:\\n\\n1. **Sunlight enters Earth's atmosphere**: When sunlight enters our atmosphere, it encounters tiny molecules of gases such as nitrogen (N2) and oxygen (O2).\\n2. **Scattering occurs**: These gas molecules scatter the light in all directions, but they scatter shorter (blue) wavelengths more than longer (red) wavelengths.\\n3. **Blue light is scattered more**: Since blue light has a shorter wavelength, it is scattered more by the tiny gas molecules. This means that more blue light reaches our eyes from the sky.\\n4. **Red light travels straight**: Meanwhile, the longer wavelengths of red light continue to travel in a straight line, reaching our eyes with less scattering.\\n\\nThis is why the sky appears blue during the daytime, especially when the sun is overhead. The color of the sky can change depending on various factors such as:\\n\\n* Time of day: During sunrise and sunset, the sun's rays have to travel through more of the atmosphere, which scatters the shorter wavelengths, making the sky appear more red or orange.\\n* Atmospheric conditions: Dust, pollution, and water vapor in the air can scatter light in different ways, changing the apparent color of the sky.\\n* Cloud cover: Clouds can absorb or scatter light, altering the way we see the color of the sky.\\n\\nSo, to summarize, the sky appears blue because of the scattering of sunlight by tiny gas molecules in our atmosphere, which preferentially scatters shorter (blue) wavelengths more than longer (red) wavelengths.\"\n",
    "        },\n",
    "        {\n",
    "            \"role\": \"user\",\n",
    "            \"content\": \"What was my last prompt?\"\n",
    "        }\n",
    "    ],\n",
    "    \"stream\": False\n",
    "}\n",
    "\n",
    "response = requests.post(url=chat_endpoint, json=data)\n"
   ],
   "id": "4725901701f50c",
   "outputs": [],
   "execution_count": 48
  },
  {
   "metadata": {
    "ExecuteTime": {
     "end_time": "2024-12-04T17:02:22.520608Z",
     "start_time": "2024-12-04T17:02:22.517246Z"
    }
   },
   "cell_type": "code",
   "source": "response_json = response.json()",
   "id": "b198000a8df4390d",
   "outputs": [],
   "execution_count": 49
  },
  {
   "metadata": {
    "ExecuteTime": {
     "end_time": "2024-12-04T17:02:23.142053Z",
     "start_time": "2024-12-04T17:02:23.137514Z"
    }
   },
   "cell_type": "code",
   "source": "response_json",
   "id": "226d598e3581dd5",
   "outputs": [
    {
     "data": {
      "text/plain": [
       "{'model': 'llama3.2',\n",
       " 'created_at': '2024-12-04T17:02:21.289632Z',\n",
       " 'message': {'role': 'assistant',\n",
       "  'content': 'Your last prompt was \"why is the sky blue?\"'},\n",
       " 'done_reason': 'stop',\n",
       " 'done': True,\n",
       " 'total_duration': 2880961750,\n",
       " 'load_duration': 825427417,\n",
       " 'prompt_eval_count': 389,\n",
       " 'prompt_eval_duration': 1461000000,\n",
       " 'eval_count': 12,\n",
       " 'eval_duration': 226000000}"
      ]
     },
     "execution_count": 50,
     "metadata": {},
     "output_type": "execute_result"
    }
   ],
   "execution_count": 50
  },
  {
   "metadata": {},
   "cell_type": "code",
   "outputs": [],
   "execution_count": null,
   "source": "",
   "id": "b42fb0a1fe6db7d5"
  }
 ],
 "metadata": {
  "kernelspec": {
   "display_name": "Python 3",
   "language": "python",
   "name": "python3"
  },
  "language_info": {
   "codemirror_mode": {
    "name": "ipython",
    "version": 2
   },
   "file_extension": ".py",
   "mimetype": "text/x-python",
   "name": "python",
   "nbconvert_exporter": "python",
   "pygments_lexer": "ipython2",
   "version": "2.7.6"
  }
 },
 "nbformat": 4,
 "nbformat_minor": 5
}
